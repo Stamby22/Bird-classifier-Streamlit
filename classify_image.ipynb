{
 "cells": [
  {
   "cell_type": "code",
   "execution_count": null,
   "id": "e9d7f072",
   "metadata": {},
   "outputs": [
    {
     "name": "stdout",
     "output_type": "stream",
     "text": [
      "{'0': 'bažant_obecný', '1': 'bekasina_otavní', '2': 'bekasina_větší', '3': 'berneška_bělolící', '4': 'berneška_rudokrká', '5': 'berneška_tmavá', '6': 'berneška_velká', '7': 'bramborníček_hnědý', '8': 'bramborníček_černohlavý', '9': 'brhlík_lesní', '10': 'brkoslav_severní', '11': 'budníček_lesní', '12': 'budníček_menší', '13': 'budníček_pruhohlavý', '14': 'budníček_temný', '15': 'budníček_větší', '16': 'budníček_zelený', '17': 'budníček_zlatohlavý', '18': 'bukač_velký', '19': 'bukáček_malý', '20': 'bělořit_okrový', '21': 'bělořit_šedý', '22': 'břehouš_rudý', '23': 'břehouš_černoocasý', '24': 'břehule_říční', '25': 'chaluha_malá', '26': 'chaluha_pomořská', '27': 'chaluha_příživná', '28': 'chaluha_velká', '29': 'chocholouš_obecný', '30': 'chřástal_kropenatý', '31': 'chřástal_malý', '32': 'chřástal_polní', '33': 'chřástal_vodní', '34': 'cvrčilka_slavíková', '35': 'cvrčilka_zelená', '36': 'cvrčilka_říční', '37': 'datel_černý', '38': 'datlík_tříprstý', '39': 'dlask_tlustozobý', '40': 'drop_malý', '41': 'drop_velký', '42': 'drozd_brávník', '43': 'drozd_cvrčala', '44': 'drozd_kvíčala', '45': 'drozd_zpěvný', '46': 'dudek_chocholatý', '47': 'dytík_úhorní', '48': 'dřemlík_tundrový', '49': 'havran_polní', '50': 'hohol_severní', '51': 'hoholka_lední', '52': 'holub_doupňák', '53': 'holub_hřivnáč', '54': 'holub_skalní', '55': 'hrdlička_divoká', '56': 'hrdlička_východní', '57': 'hrdlička_zahradní', '58': 'husa_běločelá', '59': 'husa_krátkozobá', '60': 'husa_malá', '61': 'husa_tundrová', '62': 'husa_velká', '63': 'husice_liščí', '64': 'husice_nilská', '65': 'husice_rezavá', '66': 'hvízdák_americký', '67': 'hvízdák_eurasijský', '68': 'hýl_obecný', '69': 'hýl_rudý', '70': 'hýl_trubač', '71': 'ibis_hnědý', '72': 'ibis_posvátný', '73': 'jespák_bojovný', '74': 'jespák_křivozobý', '75': 'jespák_malý', '76': 'jespák_obecný', '77': 'jespák_plavý', '78': 'jespák_písečný', '79': 'jespák_rezavý', '80': 'jespák_skvrnitý', '81': 'jespák_šedý', '82': 'jespáček_ploskozobý', '83': 'jestřáb_lesní', '84': 'jeřáb_popelavý', '85': 'jeřábek_lesní', '86': 'jiřička_obecná', '87': 'kachna_divoká', '88': 'kachnička_mandarínská', '89': 'kajka_mořská', '90': 'kalous_pustovka', '91': 'kalous_ušatý', '92': 'kamenáček_pestrý', '93': 'kavka_obecná', '94': 'keptuška_stepní', '95': 'koliha_malá', '96': 'koliha_velká', '97': 'kolpík_bílý', '98': 'konipas_bílý', '99': 'konipas_citronový', '100': 'konipas_horský', '101': 'konipas_luční', '102': 'konopka_obecná', '103': 'konopka_žlutozobá', '104': 'kopřivka_obecná', '105': 'kormorán_malý', '106': 'kormorán_velký', '107': 'koroptev_polní', '108': 'kos_horský', '109': 'kos_černý', '110': 'krahujec_obecný', '111': 'krkavec_velký', '112': 'krutihlav_obecný', '113': 'králíček_obecný', '114': 'králíček_ohnivý', '115': 'kukačka_obecná', '116': 'kulík_bledý', '117': 'kulík_hnědokřídlý', '118': 'kulík_hnědý', '119': 'kulík_mořský', '120': 'kulík_pacifický', '121': 'kulík_písečný', '122': 'kulík_zlatý', '123': 'kulík_říční', '124': 'kulíšek_nejmenší', '125': 'kvakoš_noční', '126': 'káně_bělochvostá', '127': 'káně_lesní', '128': 'káně_rousná', '129': 'křepelka_polní', '130': 'křivka_bělokřídlá', '131': 'křivka_obecná', '132': 'labuť_malá', '133': 'labuť_velká', '134': 'labuť_zpěvná', '135': 'ledňáček_říční', '136': 'lejsek_bělokrký', '137': 'lejsek_malý', '138': 'lejsek_černohlavý', '139': 'lejsek_šedý', '140': 'lelek_lesní', '141': 'linduška_horská', '142': 'linduška_lesní', '143': 'linduška_luční', '144': 'linduška_rudokrká', '145': 'linduška_skalní', '146': 'linduška_úhorní', '147': 'luněc_šedý', '148': 'luňák_hnědý', '149': 'luňák_červený', '150': 'lyska_černá', '151': 'lyskonoh_ploskozobý', '152': 'lyskonoh_úzkozobý', '153': 'lžičák_pestrý', '154': 'mandelík_hajní', '155': 'mlynařík_dlouhoocasý', '156': 'morčák_malý', '157': 'morčák_prostřední', '158': 'morčák_velký', '159': 'moták_lužní', '160': 'moták_pilich', '161': 'moták_pochop', '162': 'moták_stepní', '163': 'moudivláček_lužní', '164': 'orel_královský', '165': 'orel_křiklavý', '166': 'orel_mořský', '167': 'orel_nejmenší', '168': 'orel_skalní', '169': 'orel_stepní', '170': 'orel_volavý', '171': 'orlovec_říční', '172': 'orlík_krátkoprstý', '173': 'ostralka_štíhlá', '174': 'ostříž_lesní', '175': 'ouhorlík_stepní', '176': 'ouhorlík_černokřídlý', '177': 'ořešník_kropenatý', '178': 'pelikán_bílý', '179': 'pisila_čáponohá', '180': 'pisík_obecný', '181': 'polák_chocholačka', '182': 'polák_kaholka', '183': 'polák_malý', '184': 'polák_velký', '185': 'potápka_malá', '186': 'potápka_roháč', '187': 'potápka_rudokrká', '188': 'potápka_černokrká', '189': 'potápka_žlutorohá', '190': 'potáplice_lední', '191': 'potáplice_malá', '192': 'potáplice_severní', '193': 'potáplice_žlutozobá', '194': 'poštolka_obecná', '195': 'poštolka_rudonohá', '196': 'puštík_bělavý', '197': 'puštík_obecný', '198': 'pěnice_hnědokřídlá', '199': 'pěnice_pokřovní', '200': 'pěnice_slavíková', '201': 'pěnice_vlašská', '202': 'pěnice_vousatá', '203': 'pěnice_černohlavá', '204': 'pěnkava_jikavec', '205': 'pěnkava_obecná', '206': 'pěvuška_modrá', '207': 'pěvuška_podhorní', '208': 'racek_Sabinův', '209': 'racek_bouřní', '210': 'racek_bělohlavý', '211': 'racek_chechtavý', '212': 'racek_malý', '213': 'racek_mořský', '214': 'racek_středomořský', '215': 'racek_stříbřitý', '216': 'racek_tenkozobý', '217': 'racek_tříprstý', '218': 'racek_velký', '219': 'racek_černohlavý', '220': 'racek_žlutonohý', '221': 'raroh_velký', '222': 'rehek_domácí', '223': 'rehek_zahradní', '224': 'rorýs_obecný', '225': 'rybák_bahenní', '226': 'rybák_bělokřídlý', '227': 'rybák_dlouhoocasý', '228': 'rybák_malý', '229': 'rybák_obecný', '230': 'rybák_severní', '231': 'rybák_velkozobý', '232': 'rybák_černý', '233': 'rákosník_obecný', '234': 'rákosník_ostřicový', '235': 'rákosník_pokřovní', '236': 'rákosník_proužkovaný', '237': 'rákosník_tamaryškový', '238': 'rákosník_velký', '239': 'rákosník_zpěvný', '240': 'sedmihlásek_hajní', '241': 'skorec_vodní', '242': 'skřivan_lesní', '243': 'skřivan_ouškatý', '244': 'skřivan_polní', '245': 'skřivánek_krátkoprstý', '246': 'slavík_modráček', '247': 'slavík_obecný', '248': 'slavík_tmavý', '249': 'sluka_lesní', '250': 'slučka_malá', '251': 'slípka_zelenonohá', '252': 'sněhule_severní', '253': 'sojka_obecná', '254': 'sokol_stěhovavý', '255': 'sova_pálená', '256': 'sovice_krahujová', '257': 'stehlík_obecný', '258': 'straka_obecná', '259': 'strakapoud_bělohřbetý', '260': 'strakapoud_jižní', '261': 'strakapoud_malý', '262': 'strakapoud_prostřední', '263': 'strakapoud_velký', '264': 'strnad_luční', '265': 'strnad_malinký', '266': 'strnad_obecný', '267': 'strnad_rákosní', '268': 'strnad_tajgový', '269': 'strnad_viničný', '270': 'strnad_zahradní', '271': 'střízlík_obecný', '272': 'sup_bělohlavý', '273': 'sup_hnědý', '274': 'sýc_rousný', '275': 'sýkora_babka', '276': 'sýkora_koňadra', '277': 'sýkora_lužní', '278': 'sýkora_modřinka', '279': 'sýkora_parukářka', '280': 'sýkora_uhelníček', '281': 'sýkořice_vousatá', '282': 'sýček_obecný', '283': 'tenkozobec_opačný', '284': 'turpan_hnědý', '285': 'turpan_černý', '286': 'vlaštovka_obecná', '287': 'vlaštovka_červenavá', '288': 'vlha_pestrá', '289': 'vodouš_bahenní', '290': 'vodouš_kropenatý', '291': 'vodouš_malý', '292': 'vodouš_rudonohý', '293': 'vodouš_tmavý', '294': 'vodouš_šedý', '295': 'vodouš_štíhlý', '296': 'vodouš_žlutonohý', '297': 'volavka_bílá', '298': 'volavka_popelavá', '299': 'volavka_rusohlavá', '300': 'volavka_stříbřitá', '301': 'volavka_vlasatá', '302': 'volavka_červená', '303': 'vrabec_domácí', '304': 'vrabec_polní', '305': 'vrána_černá', '306': 'vrána_šedá', '307': 'výr_velký', '308': 'výreček_malý', '309': 'včelojed_lesní', '310': 'zedníček_skalní', '311': 'zrzohlávka_rudozobá', '312': 'zvonek_zelený', '313': 'zvonohlík_zahradní', '314': 'ústřičník_velký', '315': 'čejka_chocholatá', '316': 'červenka_obecná', '317': 'čečetka_zimní', '318': 'čáp_bílý', '319': 'čáp_černý', '320': 'čírka_modrokřídlá', '321': 'čírka_modrá', '322': 'čírka_obecná', '323': 'čížek_lesní', '324': 'šoupálek_dlouhoprstý', '325': 'šoupálek_krátkoprstý', '326': 'špaček_obecný', '327': 'ťuhýk_obecný', '328': 'ťuhýk_rudohlavý', '329': 'ťuhýk_šedý', '330': 'žluna_zelená', '331': 'žluna_šedá', '332': 'žluva_hajní'}\n"
     ]
    },
    {
     "name": "stderr",
     "output_type": "stream",
     "text": [
      "/tmp/ipykernel_4102/1227437729.py:50: UserWarning: FigureCanvasAgg is non-interactive, and thus cannot be shown\n",
      "  plt.show()\n"
     ]
    },
    {
     "ename": "KeyError",
     "evalue": "np.int64(206)",
     "output_type": "error",
     "traceback": [
      "\u001b[31m---------------------------------------------------------------------------\u001b[39m",
      "\u001b[31mKeyError\u001b[39m                                  Traceback (most recent call last)",
      "\u001b[36mCell\u001b[39m\u001b[36m \u001b[39m\u001b[32mIn[5]\u001b[39m\u001b[32m, line 61\u001b[39m\n\u001b[32m     59\u001b[39m img_pred = model.predict(img_sample_array, verbose=\u001b[32m0\u001b[39m)\n\u001b[32m     60\u001b[39m spec_pred = argmax(img_pred, axis=\u001b[32m1\u001b[39m)\n\u001b[32m---> \u001b[39m\u001b[32m61\u001b[39m \u001b[38;5;28mprint\u001b[39m(\u001b[33mf\u001b[39m\u001b[33m\"\u001b[39m\u001b[33mPredikovaný druh: \u001b[39m\u001b[38;5;132;01m{\u001b[39;00m\u001b[43mbird_species\u001b[49m\u001b[43m[\u001b[49m\u001b[43mspec_pred\u001b[49m\u001b[43m[\u001b[49m\u001b[32;43m0\u001b[39;49m\u001b[43m]\u001b[49m\u001b[43m]\u001b[49m.replace(\u001b[33m'\u001b[39m\u001b[33m_\u001b[39m\u001b[33m'\u001b[39m,\u001b[38;5;250m \u001b[39m\u001b[33m'\u001b[39m\u001b[33m \u001b[39m\u001b[33m'\u001b[39m)\u001b[38;5;132;01m}\u001b[39;00m\u001b[33m\"\u001b[39m)\n\u001b[32m     62\u001b[39m prob_list = get_probabilities(img_pred[\u001b[32m0\u001b[39m], \u001b[32m1\u001b[39m)\n\u001b[32m     63\u001b[39m \u001b[38;5;28mprint\u001b[39m(prob_list)\n",
      "\u001b[31mKeyError\u001b[39m: np.int64(206)"
     ]
    }
   ],
   "source": [
    "import streamlit as st\n",
    "from PIL import Image\n",
    "import keras # tensorflow as tf\n",
    "from keras.models import load_model\n",
    "from keras.preprocessing import image as kimage\n",
    "from keras.ops import expand_dims\n",
    "from numpy import argmax, expand_dims\n",
    "import numpy as np\n",
    "from matplotlib import pyplot as plt\n",
    "import os\n",
    "import json\n",
    "\n",
    "\n",
    "# Loading the classes from the JSON file\n",
    "current_working_directory = os.getcwd()\n",
    "bird_classes_filepath = os.path.join(current_working_directory,\"Models\",\"bird_classes.json\")\n",
    "with open(bird_classes_filepath, 'r') as json_file:\n",
    "    bird_classes = json.load(json_file)\n",
    "# create invert dictionary\n",
    "bird_species = bird_classes\n",
    "list(bird_classes.items())[-5:]\n",
    "\n",
    "# load trained model\n",
    "model_file_name = os.path.join(current_working_directory,\"Models\", \"Bird_EffiB3_DS7_FT.keras\")\n",
    "model = load_model(model_file_name)\n",
    "# define image size\n",
    "IMG_SIZE = 300\n",
    "\n",
    "\n",
    "print(bird_species)  # print last 5 species for testing\n",
    "\n",
    "# get probabilities of the best predictions\n",
    "def get_probabilities(prob_list, trashold):\n",
    "    #prob_list = model_labels[ind]\n",
    "    prob_dict = {}\n",
    "    i = 0\n",
    "    for prob in prob_list:\n",
    "        prob_dict[round(100*prob)] = str(bird_species[i]).replace('_', ' ')\n",
    "        i += 1\n",
    "    # myKeys = list(prob_dict.keys())\n",
    "    myKeys = list(num for num in prob_dict.keys() if num > trashold)\n",
    "    myKeys.sort(reverse = True)\n",
    "    # myKeys = myKeys[:num_best]  # [cislo for cislo in cisla if cislo > 30]\n",
    "    sorted_list = [str(i)+'% '+ prob_dict[i] for i in myKeys]\n",
    "    return sorted_list\n",
    "\n",
    "user_image_path_name = os.path.join(current_working_directory,\"Datasets\",\"sample014.jpg\")\n",
    "img = Image.open(user_image_path_name)\n",
    "plt.imshow(img)\n",
    "plt.axis('off')\n",
    "plt.show()\n",
    "\n",
    "# resize image to proper size\n",
    "img_sample = img.resize((IMG_SIZE,IMG_SIZE))\n",
    "img_sample = keras.utils.img_to_array(img_sample)\n",
    "# add first dimension for model\n",
    "img_sample_array = expand_dims(img_sample, axis=0)\n",
    "\n",
    "# predict class\n",
    "img_pred = model.predict(img_sample_array, verbose=0)\n",
    "spec_pred = argmax(img_pred, axis=1)\n",
    "print(f\"Predikovaný druh: {bird_species[spec_pred[0]].replace('_', ' ')}\")\n",
    "prob_list = get_probabilities(img_pred[0], 1)\n",
    "print(prob_list)"
   ]
  }
 ],
 "metadata": {
  "kernelspec": {
   "display_name": "tf-gpu",
   "language": "python",
   "name": "python3"
  },
  "language_info": {
   "codemirror_mode": {
    "name": "ipython",
    "version": 3
   },
   "file_extension": ".py",
   "mimetype": "text/x-python",
   "name": "python",
   "nbconvert_exporter": "python",
   "pygments_lexer": "ipython3",
   "version": "3.12.9"
  }
 },
 "nbformat": 4,
 "nbformat_minor": 5
}
